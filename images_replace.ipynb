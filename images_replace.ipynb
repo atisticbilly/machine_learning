{
 "cells": [
  {
   "cell_type": "code",
   "execution_count": 16,
   "metadata": {},
   "outputs": [],
   "source": [
    "#圖名修改程式\n",
    "import os\n",
    "import cv2\n",
    "\n",
    "filepath=\"D:/test/\"\n",
    "goalpath=\"D:/test_rename/\"\n",
    "\n",
    "#先取得該檔案夾內所有的檔案名稱\n",
    "def get_list():\n",
    "    all_name = os.listdir(filepath)\n",
    "    return all_name\n"
   ]
  },
  {
   "cell_type": "code",
   "execution_count": 17,
   "metadata": {},
   "outputs": [
    {
     "data": {
      "text/plain": [
       "['0a00519b6c891b86a6b359bc90186bdb6c645b9f3fd570602b5d4a269dd80bd4.jpg',\n",
       " '0a096342eb94225f40c02781eaba2c1c29551acb17adcc05451e4e35f4e4cea2.jpg',\n",
       " '0a0aa0ad0d5cebd1d1e5c1c5519984a2305053e0118f431df6c1dff3f9ffec51.jpg',\n",
       " '0a4dd0fcef505ca03b1b063207467867d7f9f45f19a09bce8be106825057bf4a.jpg',\n",
       " '0a805e0b7fc8fde0bf902c3fc20344361d87fec22ea8ce4a246bda50e30d07e0.jpg',\n",
       " '0ade4f1986cc23c57f227207ed0ba21071ee5854ee665d8eba9fff52c595bc1a.jpg',\n",
       " '0b2eaea98777f472a6835ed3031cb4e7af80388cae85d2d6ae252a141c917826.jpg',\n",
       " '0b6ee55106786db0eacf7cab333b3dbd20f9f0e85a0859ac0c27fb1d45922719.jpg',\n",
       " 'mid_term_mapping.txt',\n",
       " 'nvidia-smi.txt']"
      ]
     },
     "execution_count": 17,
     "metadata": {},
     "output_type": "execute_result"
    }
   ],
   "source": [
    "get_list()"
   ]
  },
  {
   "cell_type": "code",
   "execution_count": 18,
   "metadata": {},
   "outputs": [],
   "source": [
    "#移動路徑內每一個jpg\n",
    "for i in get_list():\n",
    "    path = str(n)\n",
    "    if '.jpg' in i:          \n",
    "        #前面放舊名字，後面放新名字\n",
    "        os.replace(filepath+i , goalpath+i)"
   ]
  },
  {
   "cell_type": "code",
   "execution_count": null,
   "metadata": {},
   "outputs": [],
   "source": []
  },
  {
   "cell_type": "code",
   "execution_count": null,
   "metadata": {},
   "outputs": [],
   "source": []
  }
 ],
 "metadata": {
  "kernelspec": {
   "display_name": "Python 3",
   "language": "python",
   "name": "python3"
  },
  "language_info": {
   "codemirror_mode": {
    "name": "ipython",
    "version": 3
   },
   "file_extension": ".py",
   "mimetype": "text/x-python",
   "name": "python",
   "nbconvert_exporter": "python",
   "pygments_lexer": "ipython3",
   "version": "3.7.7"
  }
 },
 "nbformat": 4,
 "nbformat_minor": 4
}
